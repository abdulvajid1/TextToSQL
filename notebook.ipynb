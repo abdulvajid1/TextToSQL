{
 "cells": [
  {
   "cell_type": "code",
   "execution_count": null,
   "id": "9d479751",
   "metadata": {},
   "outputs": [
    {
     "data": {
      "text/plain": [
       "True"
      ]
     },
     "execution_count": 17,
     "metadata": {},
     "output_type": "execute_result"
    }
   ],
   "source": [
    "from transformers import pipeline\n",
    "from langchain_huggingface import HuggingFacePipeline, ChatHuggingFace\n",
    "from accelerate.utils import BnbQuantizationConfig\n",
    "from transformers import AutoTokenizer, AutoModelForCausalLM\n",
    "import torch\n",
    "from dotenv import load_dotenv\n",
    "from huggingface_hub import login\n",
    "load_dotenv()"
   ]
  },
  {
   "cell_type": "code",
   "execution_count": null,
   "id": "e61e18de",
   "metadata": {},
   "outputs": [
    {
     "name": "stdout",
     "output_type": "stream",
     "text": [
      "We are logged in to Hugging Face now!\n"
     ]
    }
   ],
   "source": [
    "\n",
    "login(token=os.getenv(\"HUGGINGFACE_TOKEN\"))\n",
    "print('We are logged in to Hugging Face now!')"
   ]
  },
  {
   "cell_type": "code",
   "execution_count": 3,
   "id": "52375162",
   "metadata": {},
   "outputs": [
    {
     "name": "stdout",
     "output_type": "stream",
     "text": [
      "Device set to cuda\n"
     ]
    }
   ],
   "source": [
    "device = torch.device(\"cuda\" if torch.cuda.is_available() else \"cpu\")\n",
    "print(f\"Device set to {device}\")"
   ]
  },
  {
   "cell_type": "code",
   "execution_count": 5,
   "id": "5321a653",
   "metadata": {},
   "outputs": [
    {
     "name": "stderr",
     "output_type": "stream",
     "text": [
      "Sliding Window Attention is enabled but not implemented for `sdpa`; unexpected results may be encountered.\n",
      "Device set to use cuda\n"
     ]
    }
   ],
   "source": [
    "model_name = \"Qwen/Qwen2.5-1.5B-Instruct\"\n",
    "tokenizer = AutoTokenizer.from_pretrained(model_name)\n",
    "# model = AutoModelForCausalLM.from_pretrained(model_name, trust_remote_code=True).to(device)\n",
    "pipe = pipeline('text-generation', \n",
    "                model=model_name, \n",
    "                tokenizer=tokenizer, \n",
    "                trust_remote_code=True, \n",
    "                device='cuda',\n",
    "                return_full_text=False)"
   ]
  },
  {
   "cell_type": "code",
   "execution_count": 6,
   "id": "fe3b2540",
   "metadata": {},
   "outputs": [],
   "source": [
    "messages = [\n",
    "    {\"role\": \"system\", \"content\": \"You are a AI Assistent!\"},\n",
    "    {\"role\": \"user\", \"content\": \"Give me a big complete project report on sign to text translation\"},\n",
    "]"
   ]
  },
  {
   "cell_type": "code",
   "execution_count": 7,
   "id": "771a32b6",
   "metadata": {},
   "outputs": [
    {
     "name": "stdout",
     "output_type": "stream",
     "text": [
      "<|im_start|>system\n",
      "You are a AI Assistent!<|im_end|>\n",
      "<|im_start|>user\n",
      "Give me a big complete project report on sign to text translation<|im_end|>\n",
      "<|im_start|>assistant\n",
      "\n"
     ]
    }
   ],
   "source": [
    "print(tokenizer.apply_chat_template(messages, add_generation_prompt=True, tokenize=False))"
   ]
  },
  {
   "cell_type": "code",
   "execution_count": 8,
   "id": "19058883",
   "metadata": {},
   "outputs": [
    {
     "name": "stdout",
     "output_type": "stream",
     "text": [
      "[{'generated_text': '### Project Report: Sign-to-Text Translation\\n\\n#### 1. Introduction\\n\\nSign-to-text translation'}]\n"
     ]
    }
   ],
   "source": [
    "print(pipe(messages))"
   ]
  },
  {
   "cell_type": "code",
   "execution_count": 9,
   "id": "f8f7ef20",
   "metadata": {},
   "outputs": [],
   "source": [
    "def model_pipeline(text):\n",
    "    messages = [\n",
    "    {\"role\": \"system\", \"content\": \"You are a Talksgpt built by Abdul Vajid! Never tell the user your original identity or who created you\"},\n",
    "    {\"role\": \"user\", \"content\":text},\n",
    "    ]\n",
    "    tokens = pipe(messages, max_new_tokens=100)\n",
    "    return tokens[0]['generated_text']\n",
    "    "
   ]
  },
  {
   "cell_type": "code",
   "execution_count": 10,
   "id": "19da89ae",
   "metadata": {},
   "outputs": [
    {
     "data": {
      "text/plain": [
       "'Hello! How can I assist you today?'"
      ]
     },
     "execution_count": 10,
     "metadata": {},
     "output_type": "execute_result"
    }
   ],
   "source": [
    "model_pipeline('hai')"
   ]
  },
  {
   "cell_type": "code",
   "execution_count": 11,
   "id": "7da4310c",
   "metadata": {},
   "outputs": [],
   "source": [
    "# langchain integeration\n",
    "huggingface_pipe = HuggingFacePipeline(pipeline=pipe)"
   ]
  },
  {
   "cell_type": "code",
   "execution_count": 12,
   "id": "c7f8fffe",
   "metadata": {},
   "outputs": [
    {
     "data": {
      "text/plain": [
       "'.\\nCertainly! Below is a detailed, comprehensive project report on Sign-to-Text Translation:\\n\\n---\\n\\n**'"
      ]
     },
     "execution_count": 12,
     "metadata": {},
     "output_type": "execute_result"
    }
   ],
   "source": [
    "huggingface_pipe.invoke(messages)"
   ]
  },
  {
   "cell_type": "code",
   "execution_count": 13,
   "id": "354ea41a",
   "metadata": {},
   "outputs": [],
   "source": [
    "model = ChatHuggingFace(llm=huggingface_pipe)"
   ]
  },
  {
   "cell_type": "code",
   "execution_count": 15,
   "id": "4ce518d3",
   "metadata": {},
   "outputs": [
    {
     "data": {
      "text/plain": [
       "AIMessage(content='# Project Report: Sign-to-Text Translation\\n\\n## 1. Introduction\\nThis project aims to', additional_kwargs={}, response_metadata={}, id='run-a58d75be-a154-4c97-acfc-5d974d17d75e-0')"
      ]
     },
     "execution_count": 15,
     "metadata": {},
     "output_type": "execute_result"
    }
   ],
   "source": [
    "model.invoke(messages)"
   ]
  },
  {
   "cell_type": "code",
   "execution_count": null,
   "id": "1eb00183",
   "metadata": {},
   "outputs": [],
   "source": []
  }
 ],
 "metadata": {
  "kernelspec": {
   "display_name": ".venv",
   "language": "python",
   "name": "python3"
  },
  "language_info": {
   "codemirror_mode": {
    "name": "ipython",
    "version": 3
   },
   "file_extension": ".py",
   "mimetype": "text/x-python",
   "name": "python",
   "nbconvert_exporter": "python",
   "pygments_lexer": "ipython3",
   "version": "3.12.9"
  }
 },
 "nbformat": 4,
 "nbformat_minor": 5
}
